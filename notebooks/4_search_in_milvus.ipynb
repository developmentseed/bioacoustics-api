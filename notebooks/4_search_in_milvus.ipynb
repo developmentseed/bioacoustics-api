{
 "cells": [
  {
   "cell_type": "markdown",
   "id": "cb32f5ea",
   "metadata": {},
   "source": [
    "# Setup Milvus collection and ingest embeddings + metadata\n",
    "This notebook will walk through the steps to execute a search against a Milvus instance\n",
    "\n",
    "### Pre-requisites: \n",
    "You will need the Milvus instance with data loaded and an index defined, as setup in: `3_bootstrap_milvus.ipynb`\n",
    "\n",
    "**Author:** Leo Thomas - leo@developmentseed.org\\\n",
    "**Last updated:** 2023/06/15"
   ]
  },
  {
   "cell_type": "code",
   "execution_count": 1,
   "id": "c0f19dd0",
   "metadata": {},
   "outputs": [],
   "source": [
    "import os\n",
    "import numpy as np\n",
    "import faiss\n",
    "from pymilvus import connections, Collection"
   ]
  },
  {
   "cell_type": "code",
   "execution_count": 2,
   "id": "6a204168",
   "metadata": {},
   "outputs": [],
   "source": [
    "DATA_DIR = os.path.abspath(\"./one_percent_data_sample\")\n",
    "EMBEDDINGS_DIR = os.path.join(DATA_DIR, \"embeddings\")\n",
    "COLLECTION_NAME = \"a2o_bioacoustics\""
   ]
  },
  {
   "cell_type": "markdown",
   "id": "8055327b",
   "metadata": {},
   "source": [
    "### 1.0. Select vectors to search against"
   ]
  },
  {
   "cell_type": "code",
   "execution_count": 3,
   "id": "bf657c09",
   "metadata": {},
   "outputs": [],
   "source": [
    "embeddings_files = [\n",
    "    os.path.join(EMBEDDINGS_DIR, file) \n",
    "    for file in os.listdir(EMBEDDINGS_DIR) \n",
    "    if os.path.isfile(os.path.join(EMBEDDINGS_DIR, file))\n",
    "]\n",
    "\n",
    "embeddings = np.load(embeddings_files[0])\n",
    "search_vectors = embeddings[np.random.choice(range(len(embeddings)), size=1)]"
   ]
  },
  {
   "cell_type": "markdown",
   "id": "6e96300f",
   "metadata": {},
   "source": [
    "### 1.1. Apply PCA transformation to search vectors so that they match the dimensionality of the indexed data"
   ]
  },
  {
   "cell_type": "code",
   "execution_count": 4,
   "id": "77dddcbc",
   "metadata": {},
   "outputs": [],
   "source": [
    "# read trained PCA matrix from file\n",
    "pca_matrix = faiss.read_VectorTransform(\"1280_to_256_dimensionality_reduction.pca\")\n",
    "    \n",
    "# apply the dimensionality reduction using the PCA matrix\n",
    "reduced_search_vectors = pca_matrix.apply(search_vectors)    "
   ]
  },
  {
   "cell_type": "markdown",
   "id": "50badd40",
   "metadata": {},
   "source": [
    "### 2.0. Connect to the Milvus instance"
   ]
  },
  {
   "cell_type": "code",
   "execution_count": 5,
   "id": "7b581f85",
   "metadata": {},
   "outputs": [
    {
     "name": "stdout",
     "output_type": "stream",
     "text": [
      "Connections:  [('default', <pymilvus.client.grpc_handler.GrpcHandler object at 0x117b69520>)]\n"
     ]
    }
   ],
   "source": [
    "# Connecte to remote Milvus instance by using kubectl port forwarding: \n",
    "# gcloud auth login\n",
    "# gcloud container clusters get-credentials bioacoustics-devseed-staging-cluster --region=us-central1-f  --project dulcet-clock-385511\n",
    "# kubectl port-forward service/milvus 9091:9091 & kubectl port-forward service/milvus 19530:19530 &\n",
    "\n",
    "HOST = \"127.0.0.1\"\n",
    "PORT = 19530\n",
    "connections.connect(host=HOST, port=PORT)\n",
    "print(\"Connections: \", connections.list_connections())"
   ]
  },
  {
   "cell_type": "markdown",
   "id": "ea533161",
   "metadata": {},
   "source": [
    "### 2.1. Load the collection into memory \n",
    "The collection will be released afterwards with `collection.release()`"
   ]
  },
  {
   "cell_type": "code",
   "execution_count": 6,
   "id": "63175b27",
   "metadata": {},
   "outputs": [],
   "source": [
    "collection = Collection(COLLECTION_NAME)\n",
    "collection.load()"
   ]
  },
  {
   "cell_type": "markdown",
   "id": "7aea7c06",
   "metadata": {},
   "source": [
    "### 3.0. Execute a search!\n",
    "Params: \n",
    "- `data`:the input search vector(s)\n",
    "- `anns_field`: which field in the database to execute the vector search against\n",
    "- `param`: field specific to the index being used\n",
    "    - `metric_type`: defines the similarity metric to use when searching (ie: `L2` == Euclidean distance, or the sum of the squared difference between each element in the search vector and database vector, essentially the pythagorean theorem extended to a higher number of dimensions)\n",
    "    - `nprobe`: number of regions to search (the higher the value of nprobe the higher the of the search will be, at the expense of longer search times. If nprobe is set to the total number of clusters, it becomes equivalent to a Flat or exhaustive search).\n",
    "- `limit`: number of results to return"
   ]
  },
  {
   "cell_type": "code",
   "execution_count": 7,
   "id": "e9c8bbff",
   "metadata": {
    "scrolled": true
   },
   "outputs": [
    {
     "name": "stdout",
     "output_type": "stream",
     "text": [
      "1. Id: 441649888463575420, distance: 0.2145068496465683\n",
      "2. Id: 441649888461139864, distance: 0.2824166417121887\n",
      "3. Id: 441649888465029954, distance: 0.2849480211734772\n",
      "4. Id: 441649888465146372, distance: 0.2854631841182709\n",
      "5. Id: 441649888457424163, distance: 0.28580403327941895\n",
      "6. Id: 441649888463675072, distance: 0.2887558937072754\n",
      "7. Id: 441649888466630397, distance: 0.28885337710380554\n",
      "8. Id: 441649888469014433, distance: 0.2939363420009613\n",
      "9. Id: 441649888468647003, distance: 0.29609179496765137\n",
      "10. Id: 441649888460444665, distance: 0.298659086227417\n",
      "11. Id: 441649888455100366, distance: 0.3015505075454712\n",
      "12. Id: 441649888460965006, distance: 0.30356737971305847\n",
      "13. Id: 441649888456058672, distance: 0.3056580424308777\n",
      "14. Id: 441649888455112596, distance: 0.30653345584869385\n",
      "15. Id: 441649888454621164, distance: 0.3073357343673706\n",
      "16. Id: 441649888457254935, distance: 0.30832263827323914\n",
      "17. Id: 441649888464497169, distance: 0.3085707426071167\n",
      "18. Id: 441649888469177362, distance: 0.30902576446533203\n",
      "19. Id: 441649888457558552, distance: 0.3094905614852905\n",
      "20. Id: 441649888463768405, distance: 0.3095042407512665\n"
     ]
    }
   ],
   "source": [
    "search_params = {\n",
    "    \"data\": reduced_search_vectors,\n",
    "    \"anns_field\": \"embedding\",\n",
    "    \"param\": {\"metric_type\": \"L2\", \"params\": {\"nprobe\": 16}},\n",
    "    \"limit\": 20,\n",
    "}\n",
    "\n",
    "search_results = collection.search(**search_params)\n",
    "for result in search_results:\n",
    "    for i, r in enumerate(result): \n",
    "        print(f\"{i+1}. Id: {r.id}, distance: {r.distance}\")\n",
    "\n",
    "page_1_ids = [r.id for r in list(result) for result in search_results]"
   ]
  },
  {
   "cell_type": "markdown",
   "id": "77f89424",
   "metadata": {},
   "source": [
    "### 3.1. Paginate a search\n",
    "Using the `offset` parameter, we can paginate through the result set. If `offset` == 0 and `limit` == 20, we get the first 20 results (as above), with `offset` == 10 and `limit` == 20, we get results 10-30. We can verify this by asserting that the first 10 results of the paginated search below are identical to the last 10 results from the search above"
   ]
  },
  {
   "cell_type": "code",
   "execution_count": 8,
   "id": "5b838185",
   "metadata": {
    "scrolled": true
   },
   "outputs": [
    {
     "name": "stdout",
     "output_type": "stream",
     "text": [
      "1. Id: 441649888455100366, distance: 0.3015505075454712\n",
      "2. Id: 441649888460965006, distance: 0.30356737971305847\n",
      "3. Id: 441649888456058672, distance: 0.3056580424308777\n",
      "4. Id: 441649888455112596, distance: 0.30653345584869385\n",
      "5. Id: 441649888454621164, distance: 0.3073357343673706\n",
      "6. Id: 441649888457254935, distance: 0.30832263827323914\n",
      "7. Id: 441649888464497169, distance: 0.3085707426071167\n",
      "8. Id: 441649888469177362, distance: 0.30902576446533203\n",
      "9. Id: 441649888457558552, distance: 0.3094905614852905\n",
      "10. Id: 441649888463768405, distance: 0.3095042407512665\n",
      "11. Id: 441649888467530376, distance: 0.3095369338989258\n",
      "12. Id: 441649888462537005, distance: 0.3102073073387146\n",
      "13. Id: 441649888463917559, distance: 0.31034770607948303\n",
      "14. Id: 441649888457242246, distance: 0.31035780906677246\n",
      "15. Id: 441649888460168757, distance: 0.3109000623226166\n",
      "16. Id: 441649888467328270, distance: 0.3109663128852844\n",
      "17. Id: 441649888461803448, distance: 0.31106722354888916\n",
      "18. Id: 441649888463204582, distance: 0.31172290444374084\n",
      "19. Id: 441649888457377016, distance: 0.31188884377479553\n",
      "20. Id: 441649888466787102, distance: 0.312370240688324\n"
     ]
    }
   ],
   "source": [
    "search_params = {\n",
    "    \"data\": reduced_search_vectors,\n",
    "    \"anns_field\": \"embedding\",\n",
    "    \"param\": {\"metric_type\": \"L2\", \"params\": {\"nprobe\": 16}, \"offset\": 10},\n",
    "    \"limit\": 20,\n",
    "}\n",
    "\n",
    "page_2_search_results = collection.search(**search_params)\n",
    "for result in page_2_search_results:\n",
    "    for i, r in enumerate(result): \n",
    "        print(f\"{i+1}. Id: {r.id}, distance: {r.distance}\")\n",
    "\n",
    "page_2_ids = [r.id for r in list(result) for result in page_2_search_results]\n",
    "\n",
    "assert page_1_ids[10:] == page_2_ids[:10]\n"
   ]
  },
  {
   "cell_type": "markdown",
   "id": "281e3ea0",
   "metadata": {},
   "source": [
    "### 3.2. Use the `output_fields` parameter to specify the fields to be returned alongside the Id and distance from the input vector"
   ]
  },
  {
   "cell_type": "code",
   "execution_count": 9,
   "id": "ca628483",
   "metadata": {
    "scrolled": true
   },
   "outputs": [
    {
     "name": "stdout",
     "output_type": "stream",
     "text": [
      "1. Id: 441649888455100366, distance: 0.3015505075454712, entity<id: 441649888455100366, distance: 0.3015505075454712, entity: {'site_name': 'Bon-Bon-Station', 'subsite_name': 'Wet-A', 'file_timestamp': 1587141000}>\n",
      "2. Id: 441649888460965006, distance: 0.30356737971305847, entity<id: 441649888460965006, distance: 0.30356737971305847, entity: {'site_name': 'Bon-Bon-Station', 'subsite_name': 'Dry-A', 'file_timestamp': 1589725800}>\n",
      "3. Id: 441649888456058672, distance: 0.3056580424308777, entity<id: 441649888456058672, distance: 0.3056580424308777, entity: {'site_name': 'Bon-Bon-Station', 'subsite_name': 'Wet-A', 'file_timestamp': 1587141000}>\n",
      "4. Id: 441649888455112596, distance: 0.30653345584869385, entity<id: 441649888455112596, distance: 0.30653345584869385, entity: {'site_name': 'Bon-Bon-Station', 'subsite_name': 'Wet-A', 'file_timestamp': 1595449800}>\n",
      "5. Id: 441649888454621164, distance: 0.3073357343673706, entity<id: 441649888454621164, distance: 0.3073357343673706, entity: {'site_name': 'Boolcoomatta', 'subsite_name': 'Dry-A', 'file_timestamp': 1589221800}>\n",
      "6. Id: 441649888457254935, distance: 0.30832263827323914, entity<id: 441649888457254935, distance: 0.30832263827323914, entity: {'site_name': 'Bon-Bon-Station', 'subsite_name': 'Wet-B', 'file_timestamp': 1597689000}>\n",
      "7. Id: 441649888464497169, distance: 0.3085707426071167, entity<id: 441649888464497169, distance: 0.3085707426071167, entity: {'site_name': 'Bon-Bon-Station', 'subsite_name': 'Wet-B', 'file_timestamp': 1591878600}>\n",
      "8. Id: 441649888469177362, distance: 0.30902576446533203, entity<id: 441649888469177362, distance: 0.30902576446533203, entity: {'site_name': 'Bon-Bon-Station', 'subsite_name': 'Wet-A', 'file_timestamp': 1587141000}>\n",
      "9. Id: 441649888457558552, distance: 0.3094905614852905, entity<id: 441649888457558552, distance: 0.3094905614852905, entity: {'site_name': 'Little-Desert-Nature-Lodge', 'subsite_name': 'Dry-B', 'file_timestamp': 1593360000}>\n",
      "10. Id: 441649888463768405, distance: 0.3095042407512665, entity<id: 441649888463768405, distance: 0.3095042407512665, entity: {'site_name': 'Bon-Bon-Station', 'subsite_name': 'Wet-A', 'file_timestamp': 1587141000}>\n"
     ]
    }
   ],
   "source": [
    "search_params = {\n",
    "    \"data\": reduced_search_vectors,\n",
    "    \"anns_field\": \"embedding\",\n",
    "    \"param\": {\"metric_type\": \"L2\", \"params\": {\"nprobe\": 16}, \"offset\": 10},\n",
    "    \"limit\": 10,\n",
    "    \"output_fields\": [\"site_name\", \"subsite_name\", \"file_timestamp\"]\n",
    "}\n",
    "\n",
    "search_results = collection.search(**search_params)\n",
    "for result in search_results:\n",
    "    for i, r in enumerate(result): \n",
    "        print(f\"{i+1}. Id: {r.id}, distance: {r.distance}, entity<{r.entity}>\")\n",
    "\n"
   ]
  },
  {
   "cell_type": "markdown",
   "id": "bc73be04",
   "metadata": {},
   "source": [
    "### 3.3. Use the `expr` field to specify a metadata filter to apply before executing the vector search\n",
    "Ref: https://milvus.io/docs/hybridsearch.md"
   ]
  },
  {
   "cell_type": "code",
   "execution_count": 10,
   "id": "508dc7c6",
   "metadata": {
    "scrolled": true
   },
   "outputs": [
    {
     "name": "stdout",
     "output_type": "stream",
     "text": [
      "1. Id: 441649888463204582, distance: 0.31172290444374084, entity<id: 441649888463204582, distance: 0.31172290444374084, entity: {'site_name': 'Bon-Bon-Station', 'subsite_name': 'Wet-A', 'file_timestamp': 1583519400}>\n",
      "2. Id: 441649888468543461, distance: 0.31275108456611633, entity<id: 441649888468543461, distance: 0.31275108456611633, entity: {'site_name': 'Booroopki', 'subsite_name': 'Wet-A', 'file_timestamp': 1653573600}>\n",
      "3. Id: 441649888459760710, distance: 0.31351348757743835, entity<id: 441649888459760710, distance: 0.31351348757743835, entity: {'site_name': 'Matuwa-Indigenous-Protected-Area', 'subsite_name': 'Wet-A', 'file_timestamp': 1625169600}>\n",
      "4. Id: 441649888456475908, distance: 0.31355029344558716, entity<id: 441649888456475908, distance: 0.31355029344558716, entity: {'site_name': 'Bon-Bon-Station', 'subsite_name': 'Wet-A', 'file_timestamp': 1594737000}>\n",
      "5. Id: 441649888466145366, distance: 0.3174912929534912, entity<id: 441649888466145366, distance: 0.3174912929534912, entity: {'site_name': 'Bon-Bon-Station', 'subsite_name': 'Wet-A', 'file_timestamp': 1587141000}>\n",
      "6. Id: 441649888460431681, distance: 0.31851014494895935, entity<id: 441649888460431681, distance: 0.31851014494895935, entity: {'site_name': 'Bon-Bon-Station', 'subsite_name': 'Wet-A', 'file_timestamp': 1591108200}>\n",
      "7. Id: 441649888463376207, distance: 0.3186873197555542, entity<id: 441649888463376207, distance: 0.3186873197555542, entity: {'site_name': 'Boyagin-Nature-Reserve', 'subsite_name': 'Wet-A', 'file_timestamp': 1596045600}>\n",
      "8. Id: 441649888460293307, distance: 0.320077508687973, entity<id: 441649888460293307, distance: 0.320077508687973, entity: {'site_name': 'Bon-Bon-Station', 'subsite_name': 'Wet-A', 'file_timestamp': 1589639400}>\n",
      "9. Id: 441649888465208072, distance: 0.32105475664138794, entity<id: 441649888465208072, distance: 0.32105475664138794, entity: {'site_name': 'Bon-Bon-Station', 'subsite_name': 'Wet-A', 'file_timestamp': 1589639400}>\n",
      "10. Id: 441649888463082742, distance: 0.32183778285980225, entity<id: 441649888463082742, distance: 0.32183778285980225, entity: {'site_name': 'Bon-Bon-Station', 'subsite_name': 'Wet-A', 'file_timestamp': 1595449800}>\n"
     ]
    }
   ],
   "source": [
    "search_params = {\n",
    "    \"data\": reduced_search_vectors,\n",
    "    \"anns_field\": \"embedding\",\n",
    "    \"param\": {\"metric_type\": \"L2\", \"params\": {\"nprobe\": 16}, \"offset\": 10},\n",
    "    \"limit\": 10,\n",
    "    \"output_fields\": [\"site_name\", \"subsite_name\", \"file_timestamp\"],\n",
    "    \"expr\": \"subsite_name == \\\"Wet-A\\\"\", \n",
    "}\n",
    "\n",
    "search_results = collection.search(**search_params)\n",
    "for result in search_results:\n",
    "    for i, r in enumerate(result): \n",
    "        print(f\"{i+1}. Id: {r.id}, distance: {r.distance}, entity<{r.entity}>\")\n"
   ]
  },
  {
   "cell_type": "markdown",
   "id": "a61a8a51",
   "metadata": {},
   "source": [
    "### 3.4.Search for multiple input vectors at the same time\n",
    "Due to internal implementation, Milvus is actually optimized for searching against multiple input vectors rather than a single vector at a time."
   ]
  },
  {
   "cell_type": "code",
   "execution_count": 11,
   "id": "4e00bb2c",
   "metadata": {},
   "outputs": [
    {
     "name": "stdout",
     "output_type": "stream",
     "text": [
      "Results for input vector 0\n",
      "1. Id: 441649888469013681, distance: 5.000259876251221\n",
      "2. Id: 441649888455944961, distance: 5.015172958374023\n",
      "3. Id: 441649888464328962, distance: 5.031186580657959\n",
      "4. Id: 441649888455068979, distance: 5.0317792892456055\n",
      "5. Id: 441649888457707625, distance: 5.050155162811279\n",
      "6. Id: 441649888460127498, distance: 5.051435470581055\n",
      "7. Id: 441649888460290776, distance: 5.078517913818359\n",
      "8. Id: 441649888461726581, distance: 5.128861904144287\n",
      "9. Id: 441649888454569811, distance: 5.1348419189453125\n",
      "10. Id: 441649888462262241, distance: 5.137036323547363\n",
      "Results for input vector 1\n",
      "1. Id: 441649888462521406, distance: 4.354253768920898\n",
      "2. Id: 441649888460762331, distance: 4.355628967285156\n",
      "3. Id: 441649888466915997, distance: 4.36440372467041\n",
      "4. Id: 441649888458244186, distance: 4.3656206130981445\n",
      "5. Id: 441649888461532915, distance: 4.365994453430176\n",
      "6. Id: 441649888468863040, distance: 4.36760139465332\n",
      "7. Id: 441649888465266265, distance: 4.368870735168457\n",
      "8. Id: 441649888459842648, distance: 4.372170448303223\n",
      "9. Id: 441649888463285816, distance: 4.373210430145264\n",
      "10. Id: 441649888459047431, distance: 4.373535633087158\n",
      "Results for input vector 2\n",
      "1. Id: 441649888459299805, distance: 3.3086044788360596\n",
      "2. Id: 441649888461740880, distance: 3.31187105178833\n",
      "3. Id: 441649888465638863, distance: 3.3144893646240234\n",
      "4. Id: 441649888463968923, distance: 3.3233327865600586\n",
      "5. Id: 441649888465047876, distance: 3.3267364501953125\n",
      "6. Id: 441649888467031251, distance: 3.3344099521636963\n",
      "7. Id: 441649888467075453, distance: 3.3356003761291504\n",
      "8. Id: 441649888465333517, distance: 3.3382339477539062\n",
      "9. Id: 441649888465773266, distance: 3.3389852046966553\n",
      "10. Id: 441649888454680888, distance: 3.362583637237549\n",
      "Results for input vector 3\n",
      "1. Id: 441649888461847826, distance: 2.1615664958953857\n",
      "2. Id: 441649888467829536, distance: 2.163626194000244\n",
      "3. Id: 441649888459679747, distance: 2.1754086017608643\n",
      "4. Id: 441649888460120887, distance: 2.1755056381225586\n",
      "5. Id: 441649888461847830, distance: 2.183962345123291\n",
      "6. Id: 441649888463623841, distance: 2.1909847259521484\n",
      "7. Id: 441649888464270795, distance: 2.203460693359375\n",
      "8. Id: 441649888455715824, distance: 2.209813117980957\n",
      "9. Id: 441649888456827362, distance: 2.212965965270996\n",
      "10. Id: 441649888465535266, distance: 2.2177023887634277\n",
      "Results for input vector 4\n",
      "1. Id: 441649888459217561, distance: 2.095907688140869\n",
      "2. Id: 441649888459155348, distance: 2.1170156002044678\n",
      "3. Id: 441649888456879573, distance: 2.137599468231201\n",
      "4. Id: 441649888464523942, distance: 2.168774127960205\n",
      "5. Id: 441649888454523434, distance: 2.16884446144104\n",
      "6. Id: 441649888462592769, distance: 2.169341564178467\n",
      "7. Id: 441649888463378383, distance: 2.1735024452209473\n",
      "8. Id: 441649888463330701, distance: 2.18764066696167\n",
      "9. Id: 441649888469202939, distance: 2.1928610801696777\n",
      "10. Id: 441649888460440299, distance: 2.20949649810791\n"
     ]
    }
   ],
   "source": [
    "search_vectors = embeddings[np.random.choice(range(len(embeddings)), size=5)]\n",
    "reduced_search_vectors = pca_matrix.apply(search_vectors)\n",
    "\n",
    "search_params = {\n",
    "    \"data\": reduced_search_vectors,\n",
    "    \"anns_field\": \"embedding\",\n",
    "    \"param\": {\"metric_type\": \"L2\", \"params\": {\"nprobe\": 16}, \"offset\": 10},\n",
    "    \"limit\": 10\n",
    "}\n",
    "\n",
    "search_results = collection.search(**search_params)\n",
    "for i, result in enumerate(search_results):\n",
    "    print(f\"Results for input vector {i}\")\n",
    "    for j, r in enumerate(result): \n",
    "        print(f\"{j+1}. Id: {r.id}, distance: {r.distance}\")"
   ]
  }
 ],
 "metadata": {
  "kernelspec": {
   "display_name": "bioacoustics",
   "language": "python",
   "name": "bioacoustics"
  },
  "language_info": {
   "codemirror_mode": {
    "name": "ipython",
    "version": 3
   },
   "file_extension": ".py",
   "mimetype": "text/x-python",
   "name": "python",
   "nbconvert_exporter": "python",
   "pygments_lexer": "ipython3",
   "version": "3.8.3"
  }
 },
 "nbformat": 4,
 "nbformat_minor": 5
}
