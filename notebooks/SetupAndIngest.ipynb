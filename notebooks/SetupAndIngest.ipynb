{
 "cells": [
  {
   "cell_type": "code",
   "execution_count": 2,
   "id": "67838e1a",
   "metadata": {},
   "outputs": [],
   "source": [
    "import time\n",
    "import json\n",
    "import numpy as np\n",
    "import concurrent.futures\n",
    "from milvus import default_server\n",
    "from pymilvus import (\n",
    "    connections,\n",
    "    FieldSchema, CollectionSchema, DataType,\n",
    "    Collection,\n",
    "    utility\n",
    ")\n",
    "from tqdm.notebook import tqdm\n",
    "from utils import extract_sample_data, split_into_batches"
   ]
  },
  {
   "cell_type": "code",
   "execution_count": 3,
   "id": "7dc98c20",
   "metadata": {},
   "outputs": [
    {
     "name": "stdout",
     "output_type": "stream",
     "text": [
      "Connections:  [('default', <pymilvus.client.grpc_handler.GrpcHandler object at 0x110e24fa0>)]\n"
     ]
    }
   ],
   "source": [
    "# Connecte to remote Milvus instance by using kubectl port forwarding: \n",
    "# gcloud auth login\n",
    "# gcloud container clusters get-credentials bioacoustics-devseed-staging-cluster --region=us-central1-f\n",
    "# kubectl port-forward service/milvus 9091:9091 & \\\n",
    "# kubectl port-forward service/milvus 19530:19530 &\n",
    "\n",
    "HOST = \"127.0.0.1\"\n",
    "PORT = 19530\n",
    "connections.connect(host=HOST, port=PORT)\n",
    "print(\"Connections: \", connections.list_connections())\n",
    "\n",
    "COLLECTION_NAME = \"a2o_bioacoustics\"\n"
   ]
  },
  {
   "cell_type": "code",
   "execution_count": 4,
   "id": "f0000e0e",
   "metadata": {
    "scrolled": false
   },
   "outputs": [
    {
     "name": "stdout",
     "output_type": "stream",
     "text": [
      "Collection exists, dropping...\n",
      "Collections: ['a2o_bioacoustics']\n",
      "Collection a2o_bioacoustics instantiated with 0 entities\n",
      "Creating new index: IVF_SQ8 with params nlist:4096\n",
      "Collection a2o_bioacoustics index created...\n"
     ]
    }
   ],
   "source": [
    "# set up collection\n",
    "\n",
    "# Drop collection if exists\n",
    "if utility.has_collection(COLLECTION_NAME): \n",
    "    print(\"Collection exists, dropping...\")\n",
    "    collection = Collection(COLLECTION_NAME)\n",
    "    collection.drop()\n",
    "\n",
    "# define collection fields\n",
    "id_field = FieldSchema(\n",
    "    name=\"id\", \n",
    "    dtype=DataType.INT64, \n",
    "    descrition=\"primary field\", \n",
    "    is_primary=True, \n",
    "    auto_id=True\n",
    ")\n",
    "\n",
    "embedding_field = FieldSchema(\n",
    "    name=\"embedding\", \n",
    "    dtype=DataType.FLOAT_VECTOR, \n",
    "    description=\"Float32 vector with dim 256 (reduced using PCA from origina vector dim:1280)\", \n",
    "    dim=256,\n",
    "    is_primary=False\n",
    ")\n",
    "file_timestamp_field = FieldSchema(\n",
    "    name=\"file_timestamp\", \n",
    "    dtype=DataType.INT64, \n",
    "    description=\"UTC File timestamp (in seconds since 1970-01-01T00:00:00)\"\n",
    ")\n",
    "file_seconds_since_midnight_field = FieldSchema(\n",
    "    name=\"file_seconds_since_midnight\", \n",
    "    dtype=DataType.INT64, \n",
    "    description=\"Number of seconds since 00h00 (within same timezone)\"\n",
    ")\n",
    "clip_offset_in_file_field = FieldSchema(\n",
    "    name=\"clip_offset_in_file\", \n",
    "    dtype=DataType.INT64, \n",
    "    description=\"Offset (in seconds) from start of file where embedding window starts\"\n",
    ")\n",
    "site_id_field = FieldSchema(\n",
    "    name=\"site_id\", \n",
    "    dtype=DataType.VARCHAR, \n",
    "    description=\"Site ID\",\n",
    "    max_length=8 # max len found in 1% sample = 4\n",
    ")\n",
    "site_name_field = FieldSchema(\n",
    "    name=\"site_name\", \n",
    "    dtype=DataType.VARCHAR, \n",
    "    description=\"Site name\", \n",
    "    max_length=100 # max len found in 1% sample = 50\n",
    ")\n",
    "subsite_name_field = FieldSchema(\n",
    "    name=\"subsite_name\", \n",
    "    dtype=DataType.VARCHAR, \n",
    "    description=\"Subsite name\", \n",
    "    max_length=5 # (one of: Dry-A, Dry-B, Wet-A, Wet-B)\n",
    ")\n",
    "file_seq_id_field = FieldSchema(\n",
    "    name=\"file_seq_id\", \n",
    "    dtype=DataType.INT64, \n",
    "    description=\"File sequence ID\", # sequence id can be converted to int\n",
    ")\n",
    "filename_field = FieldSchema(\n",
    "    name=\"filename\", \n",
    "    dtype=DataType.VARCHAR, \n",
    "    max_length=500\n",
    ")\n",
    "\n",
    "schema = CollectionSchema(\n",
    "    fields=[\n",
    "        id_field,\n",
    "        embedding_field, \n",
    "        file_timestamp_field,\n",
    "        file_seconds_since_midnight_field,\n",
    "        clip_offset_in_file_field, \n",
    "        site_id_field, \n",
    "        site_name_field, \n",
    "        subsite_name_field, \n",
    "        file_seq_id_field, \n",
    "        filename_field\n",
    "    ], \n",
    "    description=\"Collection for searching A20 bird embeddings\"\n",
    ")\n",
    "collection = Collection(\n",
    "    name=COLLECTION_NAME, \n",
    "    data=None,\n",
    "    schema=schema, \n",
    "    # Set TTL to 0 to disable\n",
    "    properties={\"collection.ttl.seconds\": 0}\n",
    ")\n",
    "print(f\"Collections: {utility.list_collections()}\")\n",
    "print(f\"Collection {COLLECTION_NAME} instantiated with {collection.num_entities} entities\")\n",
    "\n",
    "if len(collection.indexes): \n",
    "    print(f\"Dropping current index on field: {collection.index().field_name} -> {collection.index().params}\")\n",
    "    collection.drop_index()\n",
    "    print(f\"Indexes remaining after dropping: {collection.indexes}\")\n",
    "    \n",
    "print(f\"Creating new index: IVF_SQ8 with params nlist:4096\")\n",
    "# create new index: \n",
    "index_params = {\n",
    "    \"index_type\": \"IVF_SQ8\",\n",
    "    \"params\":{\"nlist\": 4096},\n",
    "    \"metric_type\": \"L2\"\n",
    "}\n",
    "\n",
    "collection.create_index(\"embedding\", index_params)\n",
    "\n",
    "print(f\"Collection {COLLECTION_NAME} index created...\")\n",
    "collection.flush()"
   ]
  },
  {
   "cell_type": "code",
   "execution_count": 5,
   "id": "28328eff",
   "metadata": {},
   "outputs": [],
   "source": [
    "BATCH_SIZE=1000\n",
    "FIELD_NAMES = (\n",
    "    \"embedding\",\n",
    "    \"file_timestamp\",\n",
    "    \"file_seconds_since_midnight\",\n",
    "    \"recording_offset_in_file\",\n",
    "    \"site_id\",\n",
    "    \"site_name\",\n",
    "    \"subsite_name\", \n",
    "    \"file_seq_id\", \n",
    "    \"filename\"\n",
    ")\n",
    "\n",
    "def load_data(metadata_file): \n",
    "    start = time.time()\n",
    "    _embeddings = np.load(metadata_file.replace(\"metadata\", \"numpy_reduced\").replace(\".json\", \".npy\"))\n",
    "    \n",
    "    _metadata = None\n",
    "    with open(metadata_file, \"r\") as f: \n",
    "        _metadata = json.loads(f.read())\n",
    "        \n",
    "    assert len(_embeddings) == len(_metadata)\n",
    "    \n",
    "    data = [\n",
    "        {\"embedding\": _embeddings[i], **_metadata[i]} \n",
    "        for i in range(len(_metadata)) \n",
    "    ]\n",
    "    \n",
    "    start = time.time()\n",
    "    \n",
    "    collection = Collection(COLLECTION_NAME)\n",
    "    \n",
    "    for batch in split_into_batches(data, BATCH_SIZE):\n",
    "        \n",
    "        collection.insert(\n",
    "            [[_data[fieldname] for _data in batch] for fieldname in FIELD_NAMES]\n",
    "        )\n",
    "        collection.flush()\n",
    "\n",
    "    return len(_embeddings)\n",
    "\n",
    "   "
   ]
  },
  {
   "cell_type": "code",
   "execution_count": 6,
   "id": "aa4c0767",
   "metadata": {},
   "outputs": [
    {
     "data": {
      "application/vnd.jupyter.widget-view+json": {
       "model_id": "bf0393814e1f4a179299bfe05b32aa4d",
       "version_major": 2,
       "version_minor": 0
      },
      "text/plain": [
       "  0%|          | 0/374 [00:00<?, ?it/s]"
      ]
     },
     "metadata": {},
     "output_type": "display_data"
    },
    {
     "name": "stdout",
     "output_type": "stream",
     "text": [
      "Collection a2o_bioacoustics currently loaded with 14412192 entities\n",
      "CPU times: user 23min 32s, sys: 4min 42s, total: 28min 15s\n",
      "Wall time: 5h 48min 34s\n"
     ]
    }
   ],
   "source": [
    "%%time\n",
    "#data = extract_sample_data()\n",
    "metadata_filenames = [f\"./one_percent_embeddings_metadata/a2o_sample_embeddings-{i:05}-of-00374.json\" for i in range(0, 374)]\n",
    "#reduced_embedding_numpy_filenames = [f\"./one_percent_embeddings_numpy_reduced/a2o_sample_embeddings-{i:05}-of-00374.npy\" for i in range(0, 374)]\n",
    "\n",
    "with concurrent.futures.ThreadPoolExecutor(max_workers=10) as executor:\n",
    "    results = list(\n",
    "        tqdm(\n",
    "            executor.map(\n",
    "                lambda x: load_data(x),\n",
    "                metadata_filenames\n",
    "            ), \n",
    "            total=len(metadata_filenames) \n",
    "        )\n",
    "    ) \n",
    "\n",
    "print(f\"Collection {COLLECTION_NAME} currently loaded with {collection.num_entities} entities\")\n",
    "  "
   ]
  },
  {
   "cell_type": "code",
   "execution_count": null,
   "id": "dc6e489a",
   "metadata": {},
   "outputs": [],
   "source": [
    "%%time\n",
    "if len(collection.indexes): \n",
    "    print(f\"Dropping current index on field: {collection.index().field_name} -> {collection.index().params}\")\n",
    "    collection.drop_index()\n",
    "    print(f\"Indexes remaining after dropping: {collection.indexes}\")\n",
    "    \n",
    "print(f\"Creating new index: IVF_SQ8 with params nlist:4096\")\n",
    "# create new index: \n",
    "index_params = {\n",
    "    \"index_type\": \"IVF_SQ8\",\n",
    "    \"params\":{\"nlist\": 4096},\n",
    "    \"metric_type\": \"L2\"\n",
    "}\n",
    "\n",
    "collection.create_index(\"embedding\", index_params)"
   ]
  },
  {
   "cell_type": "code",
   "execution_count": 64,
   "id": "8b187458",
   "metadata": {},
   "outputs": [],
   "source": [
    "_embeddings = np.load(metadata_filenames[1].replace(\"metadata\", \"numpy_reduced\").replace(\".json\", \".npy\"))\n",
    "\n",
    "search_vectors = _embeddings[np.random.choice(range(len(_embeddings)), size=1)]"
   ]
  },
  {
   "cell_type": "code",
   "execution_count": 104,
   "id": "7f4fd166",
   "metadata": {},
   "outputs": [
    {
     "name": "stdout",
     "output_type": "stream",
     "text": [
      "CPU times: user 5.18 ms, sys: 2.6 ms, total: 7.78 ms\n",
      "Wall time: 1.53 s\n"
     ]
    },
    {
     "data": {
      "text/plain": [
       "True"
      ]
     },
     "execution_count": 104,
     "metadata": {},
     "output_type": "execute_result"
    }
   ],
   "source": [
    "%%time\n",
    "collection.load()\n",
    "\n",
    "#search_vectors = [data[i][\"embedding\"] for i in np.random.choice(range(len(data)), size=5)]\n",
    "\n",
    "search_param_1 = {\n",
    "    \"data\": search_vectors,\n",
    "    \"anns_field\": \"embedding\",\n",
    "    \"param\": {\"metric_type\": \"L2\", \"params\": {\"nprobe\": 16}},\n",
    "    \"limit\": 20,\n",
    "}\n",
    "\n",
    "search_results_1 = collection.search(**search_param_1)\n",
    "\n",
    "search_param_2 = {\n",
    "    \"data\": search_vectors,\n",
    "    \"anns_field\": \"embedding\",\n",
    "    \"param\": {\"metric_type\": \"L2\", \"params\": {\"nprobe\": 16},  \"offset\": 10},\n",
    "    \"limit\": 10,\n",
    "}\n",
    "\n",
    "search_results_2 = collection.search(**search_param_2)\n",
    "\n",
    "[r.id for r in search_results_1[0]][10:] ==  [r.id for r in search_results_2[0]]"
   ]
  },
  {
   "cell_type": "code",
   "execution_count": 99,
   "id": "ad20521c",
   "metadata": {},
   "outputs": [
    {
     "name": "stdout",
     "output_type": "stream",
     "text": [
      "[441649888454387164, 441649888466767199, 441649888468615140, 441649888466356568, 441649888468615139, 441649888455936804, 441649888464992819, 441649888455252561, 441649888455287219, 441649888462164921, 441649888457944054, 441649888461832523, 441649888461609117, 441649888460221637, 441649888463097280, 441649888461609114, 441649888465594860, 441649888464556168, 441649888457944049, 441649888457561596]\n",
      "[441649888457944054, 441649888461832523, 441649888461609117, 441649888460221637, 441649888463097280, 441649888461609114, 441649888465594860, 441649888464556168, 441649888457944049, 441649888457561596]\n"
     ]
    }
   ],
   "source": [
    "id1 = [r.id for r in search_results_1[0]]\n",
    "id2 = [r.id for r in search_results_2[0]]\n",
    "print(id1)\n",
    "print(id2)"
   ]
  },
  {
   "cell_type": "code",
   "execution_count": null,
   "id": "f146c0c3",
   "metadata": {},
   "outputs": [],
   "source": [
    "import json\n",
    "with open(\"sample_search_vectors.json\", \"w\") as f: \n",
    "    f.write(json.dumps([v.tolist() for v in search_vectors]))\n"
   ]
  },
  {
   "cell_type": "code",
   "execution_count": null,
   "id": "db710270",
   "metadata": {},
   "outputs": [],
   "source": [
    "list(search_results)"
   ]
  }
 ],
 "metadata": {
  "kernelspec": {
   "display_name": "bioacoustics",
   "language": "python",
   "name": "bioacoustics"
  },
  "language_info": {
   "codemirror_mode": {
    "name": "ipython",
    "version": 3
   },
   "file_extension": ".py",
   "mimetype": "text/x-python",
   "name": "python",
   "nbconvert_exporter": "python",
   "pygments_lexer": "ipython3",
   "version": "3.8.3"
  }
 },
 "nbformat": 4,
 "nbformat_minor": 5
}
