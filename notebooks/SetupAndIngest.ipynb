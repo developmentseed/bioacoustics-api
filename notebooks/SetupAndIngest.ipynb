{
 "cells": [
  {
   "cell_type": "code",
   "execution_count": 10,
   "id": "67838e1a",
   "metadata": {},
   "outputs": [],
   "source": [
    "import time\n",
    "import numpy as np\n",
    "from milvus import default_server\n",
    "from pymilvus import (\n",
    "    connections,\n",
    "    FieldSchema, CollectionSchema, DataType,\n",
    "    Collection,\n",
    "    utility\n",
    ")\n",
    "from tqdm import tqdm\n",
    "from utils import extract_sample_data, split_into_batches"
   ]
  },
  {
   "cell_type": "code",
   "execution_count": 2,
   "id": "7dc98c20",
   "metadata": {},
   "outputs": [
    {
     "name": "stdout",
     "output_type": "stream",
     "text": [
      "Connections:  [('default', <pymilvus.client.grpc_handler.GrpcHandler object at 0x10cd26520>)]\n"
     ]
    }
   ],
   "source": [
    "# Connecte to remote Milvus instance by using kubectl port forwarding: \n",
    "# gcloud auth login\n",
    "# gcloud container clusters get-credentials bioacoustics-devseed-staging-cluster --region=us-central1-f\n",
    "# kubectl port-forward service/milvus 9091:9091 & \\\n",
    "# kubectl port-forward service/milvus 19530:19530 &\n",
    "\n",
    "HOST = \"127.0.0.1\"\n",
    "PORT = 19530\n",
    "connections.connect(host=HOST, port=PORT)\n",
    "print(\"Connections: \", connections.list_connections())"
   ]
  },
  {
   "cell_type": "code",
   "execution_count": 3,
   "id": "f0000e0e",
   "metadata": {},
   "outputs": [
    {
     "name": "stdout",
     "output_type": "stream",
     "text": [
      "Collection exists, dropping...\n",
      "Collections: ['a2o_bioacoustics']\n",
      "Collection a2o_bioacoustics instantiated with 0 entities\n"
     ]
    }
   ],
   "source": [
    "# set up collection\n",
    "COLLECTION_NAME = \"a2o_bioacoustics\"\n",
    "\n",
    "# Drop collection if exists\n",
    "if utility.has_collection(COLLECTION_NAME): \n",
    "    print(\"Collection exists, dropping...\")\n",
    "    collection = Collection(COLLECTION_NAME)\n",
    "    collection.drop()\n",
    "\n",
    "# define collection fields\n",
    "id_field = FieldSchema(\n",
    "    name=\"id\", \n",
    "    dtype=DataType.INT64, \n",
    "    descrition=\"primary field\", \n",
    "    is_primary=True, \n",
    "    auto_id=True\n",
    ")\n",
    "\n",
    "embedding_field = FieldSchema(\n",
    "    name=\"embedding\", \n",
    "    dtype=DataType.FLOAT_VECTOR, \n",
    "    description=\"Float32 vector with dim 1280\", \n",
    "    dim=1280,\n",
    "    is_primary=False\n",
    ")\n",
    "file_timestamp_field = FieldSchema(\n",
    "    name=\"file_timestamp\", \n",
    "    dtype=DataType.INT64, \n",
    "    description=\"File timestamp (in seconds since 1970-01-01T00:00:00)\"\n",
    ")\n",
    "offset_field = FieldSchema(\n",
    "    name=\"offset\", \n",
    "    dtype=DataType.INT64, \n",
    "    description=\"Offset (in seconds) from start of file where embedding window starts\"\n",
    ")\n",
    "site_id_field = FieldSchema(\n",
    "    name=\"site_id\", \n",
    "    dtype=DataType.INT64, \n",
    "    description=\"Site ID\", \n",
    ")\n",
    "site_name_field = FieldSchema(\n",
    "    name=\"site_name\", \n",
    "    dtype=DataType.VARCHAR, \n",
    "    description=\"Site name\", \n",
    "    max_length=1000\n",
    ")\n",
    "subsite_name_field = FieldSchema(\n",
    "    name=\"subsite_name\", \n",
    "    dtype=DataType.VARCHAR, \n",
    "    description=\"Subsite name\", \n",
    "    max_length=1000\n",
    ")\n",
    "file_seq_id_field = FieldSchema(\n",
    "    name=\"file_seq_id\", \n",
    "    dtype=DataType.INT64, \n",
    "    description=\"File sequence ID\", \n",
    ")\n",
    "filename_field = FieldSchema(\n",
    "    name=\"filename\", \n",
    "    dtype=DataType.VARCHAR, \n",
    "    max_length=1000\n",
    ")\n",
    "\n",
    "schema = CollectionSchema(\n",
    "    fields=[\n",
    "        id_field,\n",
    "        embedding_field, \n",
    "        file_timestamp_field,\n",
    "        offset_field, \n",
    "        site_id_field, \n",
    "        site_name_field, \n",
    "        subsite_name_field, \n",
    "        file_seq_id_field, \n",
    "        filename_field\n",
    "    ], \n",
    "    description=\"Collection for searching A20 bird embeddings\"\n",
    ")\n",
    "collection = Collection(\n",
    "    name=COLLECTION_NAME, \n",
    "    data=None,\n",
    "    schema=schema, \n",
    "    # Set TTL to 0 to disable\n",
    "    properties={\"collection.ttl.seconds\": 0}\n",
    ")\n",
    "print(f\"Collections: {utility.list_collections()}\")\n",
    "print(f\"Collection {COLLECTION_NAME} instantiated with {collection.num_entities} entities\")"
   ]
  },
  {
   "cell_type": "code",
   "execution_count": 4,
   "id": "aa4c0767",
   "metadata": {},
   "outputs": [
    {
     "name": "stderr",
     "output_type": "stream",
     "text": [
      "2023-05-16 14:08:39.423373: I tensorflow/core/common_runtime/executor.cc:1197] [/device:CPU:0] (DEBUG INFO) Executor start aborting (this does not indicate an error and you can ignore this message): INVALID_ARGUMENT: You must feed a value for placeholder tensor 'Placeholder/_0' with dtype string and shape [1]\n",
      "\t [[{{node Placeholder/_0}}]]\n"
     ]
    },
    {
     "name": "stdout",
     "output_type": "stream",
     "text": [
      "Processed data file: point_one_percent_embeddings/a2o_sample_embeddings-00000-of-00007, found 24903 records\n"
     ]
    },
    {
     "name": "stderr",
     "output_type": "stream",
     "text": [
      "2023-05-16 14:08:48.467108: I tensorflow/core/common_runtime/executor.cc:1197] [/device:CPU:0] (DEBUG INFO) Executor start aborting (this does not indicate an error and you can ignore this message): INVALID_ARGUMENT: You must feed a value for placeholder tensor 'Placeholder/_0' with dtype string and shape [1]\n",
      "\t [[{{node Placeholder/_0}}]]\n"
     ]
    },
    {
     "name": "stdout",
     "output_type": "stream",
     "text": [
      "Processed data file: point_one_percent_embeddings/a2o_sample_embeddings-00001-of-00007, found 3102 records\n"
     ]
    },
    {
     "name": "stderr",
     "output_type": "stream",
     "text": [
      "2023-05-16 14:08:49.568549: I tensorflow/core/common_runtime/executor.cc:1197] [/device:CPU:0] (DEBUG INFO) Executor start aborting (this does not indicate an error and you can ignore this message): INVALID_ARGUMENT: You must feed a value for placeholder tensor 'Placeholder/_0' with dtype string and shape [1]\n",
      "\t [[{{node Placeholder/_0}}]]\n"
     ]
    },
    {
     "name": "stdout",
     "output_type": "stream",
     "text": [
      "Processed data file: point_one_percent_embeddings/a2o_sample_embeddings-00002-of-00007, found 7740 records\n"
     ]
    },
    {
     "name": "stderr",
     "output_type": "stream",
     "text": [
      "2023-05-16 14:08:52.070802: I tensorflow/core/common_runtime/executor.cc:1197] [/device:CPU:0] (DEBUG INFO) Executor start aborting (this does not indicate an error and you can ignore this message): INVALID_ARGUMENT: You must feed a value for placeholder tensor 'Placeholder/_0' with dtype string and shape [1]\n",
      "\t [[{{node Placeholder/_0}}]]\n"
     ]
    },
    {
     "name": "stdout",
     "output_type": "stream",
     "text": [
      "Processed data file: point_one_percent_embeddings/a2o_sample_embeddings-00003-of-00007, found 5981 records\n",
      "Processed data file: point_one_percent_embeddings/a2o_sample_embeddings-00004-of-00007, found 424 records\n"
     ]
    },
    {
     "name": "stderr",
     "output_type": "stream",
     "text": [
      "2023-05-16 14:08:54.066214: I tensorflow/core/common_runtime/executor.cc:1197] [/device:CPU:0] (DEBUG INFO) Executor start aborting (this does not indicate an error and you can ignore this message): INVALID_ARGUMENT: You must feed a value for placeholder tensor 'Placeholder/_0' with dtype string and shape [1]\n",
      "\t [[{{node Placeholder/_0}}]]\n",
      "2023-05-16 14:08:54.225559: I tensorflow/core/common_runtime/executor.cc:1197] [/device:CPU:0] (DEBUG INFO) Executor start aborting (this does not indicate an error and you can ignore this message): INVALID_ARGUMENT: You must feed a value for placeholder tensor 'Placeholder/_0' with dtype string and shape [1]\n",
      "\t [[{{node Placeholder/_0}}]]\n"
     ]
    },
    {
     "name": "stdout",
     "output_type": "stream",
     "text": [
      "Processed data file: point_one_percent_embeddings/a2o_sample_embeddings-00005-of-00007, found 21629 records\n"
     ]
    },
    {
     "name": "stderr",
     "output_type": "stream",
     "text": [
      "2023-05-16 14:09:00.467281: I tensorflow/core/common_runtime/executor.cc:1197] [/device:CPU:0] (DEBUG INFO) Executor start aborting (this does not indicate an error and you can ignore this message): INVALID_ARGUMENT: You must feed a value for placeholder tensor 'Placeholder/_0' with dtype string and shape [1]\n",
      "\t [[{{node Placeholder/_0}}]]\n"
     ]
    },
    {
     "name": "stdout",
     "output_type": "stream",
     "text": [
      "Processed data file: point_one_percent_embeddings/a2o_sample_embeddings-00006-of-00007, found 9041 records\n",
      "CPU times: user 31.1 s, sys: 5.63 s, total: 36.7 s\n",
      "Wall time: 23.9 s\n"
     ]
    }
   ],
   "source": [
    "%%time\n",
    "data = extract_sample_data()"
   ]
  },
  {
   "cell_type": "code",
   "execution_count": 5,
   "id": "55d34eb0",
   "metadata": {},
   "outputs": [
    {
     "name": "stderr",
     "output_type": "stream",
     "text": [
      "175it [1:09:27, 23.81s/it]                                                                           "
     ]
    },
    {
     "name": "stdout",
     "output_type": "stream",
     "text": [
      "Collection a2o_bioacoustics currently loaded with 872994 entities\n",
      "CPU times: user 7min 5s, sys: 57.4 s, total: 8min 2s\n",
      "Wall time: 1h 9min 27s\n"
     ]
    },
    {
     "name": "stderr",
     "output_type": "stream",
     "text": [
      "\n"
     ]
    }
   ],
   "source": [
    "%%time\n",
    "\n",
    "# split data into batches of 5000 for insertion into Milvus collection\n",
    "# TODO: find documentation on why this is necessary, I did this to try \n",
    "# to get around the kernel dying when trying to insert the entire \n",
    "# collection at once\n",
    "for _batch in tqdm(split_into_batches(data, 5000), total=int(len(data)/5000)): \n",
    "    \n",
    "    #insert \n",
    "    collection.insert(\n",
    "        [\n",
    "            [_data[fieldname] for _data in _batch] \n",
    "            for fieldname in (\n",
    "                \"embedding\",\n",
    "                \"file_timestamp\",\n",
    "                \"offset\",\n",
    "                \"site_id\",\n",
    "                \"site_name\",\n",
    "                \"subsite_name\", \n",
    "                \"file_seq_id\", \n",
    "                \"filename\"\n",
    "            )\n",
    "        ]\n",
    "    ) \n",
    "\n",
    "    collection.flush()    \n",
    "print(f\"Collection {COLLECTION_NAME} currently loaded with {collection.num_entities} entities\")"
   ]
  },
  {
   "cell_type": "code",
   "execution_count": 8,
   "id": "dc6e489a",
   "metadata": {},
   "outputs": [
    {
     "name": "stdout",
     "output_type": "stream",
     "text": [
      "Creating new index: IVF_SQ8 with params nlist:1024\n",
      "CPU times: user 2.41 s, sys: 1.1 s, total: 3.5 s\n",
      "Wall time: 11min 48s\n"
     ]
    },
    {
     "data": {
      "text/plain": [
       "Status(code=0, message=)"
      ]
     },
     "execution_count": 8,
     "metadata": {},
     "output_type": "execute_result"
    }
   ],
   "source": [
    "%%time\n",
    "if len(collection.indexes): \n",
    "    print(f\"Dropping current index on field: {collection.index().field_name} -> {collection.index().params}\")\n",
    "    collection.drop_index()\n",
    "    print(f\"Indexes remaining after dropping: {collection.indexes}\")\n",
    "    \n",
    "print(f\"Creating new index: IVF_SQ8 with params nlist:1024\")\n",
    "# create new index: \n",
    "index_params = {\n",
    "    \"index_type\": \"IVF_SQ8\",\n",
    "    \"params\":{\"nlist\": 1024},\n",
    "    \"metric_type\": \"L2\"\n",
    "}\n",
    "\n",
    "collection.create_index(\"embedding\", index_params)"
   ]
  },
  {
   "cell_type": "code",
   "execution_count": 26,
   "id": "7f4fd166",
   "metadata": {},
   "outputs": [
    {
     "name": "stdout",
     "output_type": "stream",
     "text": [
      "CPU times: user 83 ms, sys: 21.6 ms, total: 105 ms\n",
      "Wall time: 435 ms\n"
     ]
    }
   ],
   "source": [
    "%%time\n",
    "collection.load()\n",
    "\n",
    "search_vectors = [data[i][\"embedding\"] for i in np.random.choice(range(len(data)), size=5)]\n",
    "\n",
    "search_param = {\n",
    "    \"data\": search_vectors,\n",
    "    \"anns_field\": \"embedding\",\n",
    "    \"param\": {\"metric_type\": \"L2\", \"params\": {\"nprobe\": 16}},\n",
    "    \"limit\": 25,\n",
    "    \"output_fields\": [\"site_name\", \"subsite_name\", \"file_timestamp\", \"filename\"]\n",
    "}\n",
    "\n",
    "search_results = collection.search(**search_param)"
   ]
  },
  {
   "cell_type": "code",
   "execution_count": 23,
   "id": "f146c0c3",
   "metadata": {},
   "outputs": [],
   "source": [
    "import json\n",
    "with open(\"sample_search_vectors.json\", \"w\") as f: \n",
    "    f.write(json.dumps([v.tolist() for v in search_vectors]))\n"
   ]
  },
  {
   "cell_type": "code",
   "execution_count": 18,
   "id": "db710270",
   "metadata": {},
   "outputs": [
    {
     "data": {
      "text/plain": [
       "[<pymilvus.orm.search.Hits at 0x135baee80>,\n",
       " <pymilvus.orm.search.Hits at 0x1811e78e0>,\n",
       " <pymilvus.orm.search.Hits at 0x1811e7940>,\n",
       " <pymilvus.orm.search.Hits at 0x1811e7a00>,\n",
       " <pymilvus.orm.search.Hits at 0x1811e7b80>]"
      ]
     },
     "execution_count": 18,
     "metadata": {},
     "output_type": "execute_result"
    }
   ],
   "source": [
    "list(search_results)"
   ]
  }
 ],
 "metadata": {
  "kernelspec": {
   "display_name": "bioacoustics",
   "language": "python",
   "name": "bioacoustics"
  },
  "language_info": {
   "codemirror_mode": {
    "name": "ipython",
    "version": 3
   },
   "file_extension": ".py",
   "mimetype": "text/x-python",
   "name": "python",
   "nbconvert_exporter": "python",
   "pygments_lexer": "ipython3",
   "version": "3.8.3"
  }
 },
 "nbformat": 4,
 "nbformat_minor": 5
}
