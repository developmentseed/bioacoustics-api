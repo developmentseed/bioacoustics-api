{
 "cells": [
  {
   "cell_type": "code",
   "execution_count": 1,
   "id": "78eb6146",
   "metadata": {
    "scrolled": true
   },
   "outputs": [
    {
     "name": "stderr",
     "output_type": "stream",
     "text": [
      "2023-05-16 12:48:49.205857: I tensorflow/core/platform/cpu_feature_guard.cc:182] This TensorFlow binary is optimized to use available CPU instructions in performance-critical operations.\n",
      "To enable the following instructions: AVX2 AVX512F AVX512_VNNI FMA, in other operations, rebuild TensorFlow with the appropriate compiler flags.\n"
     ]
    }
   ],
   "source": [
    "import os\n",
    "import json\n",
    "import re\n",
    "import datetime\n",
    "import concurrent.futures\n",
    "import numpy as np\n",
    "import pandas as pd\n",
    "import tensorflow as tf\n",
    "from tqdm import tqdm"
   ]
  },
  {
   "cell_type": "code",
   "execution_count": 2,
   "id": "1a9eed22",
   "metadata": {},
   "outputs": [],
   "source": [
    "# quick and dirty download of sample data using `!` to execute \n",
    "# command directly against CLI (rather than through the python \n",
    "# interpreter)\n",
    "EMBEDDINGS_DIR = \"point_one_percent_embeddings\"\n",
    "if not os.path.exists(EMBEDDINGS_DIR): \n",
    "    !gsutil -m cp -r \"gs://a20_dropbox/point_one_percent_embeddings\" ."
   ]
  },
  {
   "cell_type": "code",
   "execution_count": 3,
   "id": "1a414105",
   "metadata": {
    "scrolled": false
   },
   "outputs": [],
   "source": [
    "# Define the feature description for parsing the TFRecordDataset\n",
    "feature_description = {\n",
    "    'timestamp_s': tf.io.FixedLenFeature([], tf.float32),\n",
    "    'filename': tf.io.FixedLenFeature([], tf.string),\n",
    "    'embedding': tf.io.FixedLenFeature([], tf.string),\n",
    "    'embedding_shape': tf.io.FixedLenFeature([3], tf.int64)\n",
    "}\n",
    "\n",
    "# Define a function to parse the TFRecordDataset\n",
    "def parse_tfrecord(example_proto):\n",
    "    # Parse the features from the serialized example\n",
    "    features = tf.io.parse_single_example(example_proto, feature_description)\n",
    "    \n",
    "    # extract embedding as 3D array of float32, from byte string \n",
    "    embedding = tf.io.parse_tensor(features[\"embedding\"], out_type=tf.float32)\n",
    "    \n",
    "    return features['timestamp_s'], features[\"filename\"], embedding, features[\"embedding_shape\"]"
   ]
  },
  {
   "cell_type": "code",
   "execution_count": 4,
   "id": "b6f9fc45",
   "metadata": {},
   "outputs": [
    {
     "name": "stdout",
     "output_type": "stream",
     "text": [
      "Timestamp:  tf.Tensor(5640.0, shape=(), dtype=float32)\n",
      "Filename:  tf.Tensor(b'site_0062/20200308T220000+0800_Uunguu-Indigenous-Protected-Area-Wunambal-Gaambera-Wet-A_192000.flac', shape=(), dtype=string)\n",
      "Embedding:  tf.Tensor(\n",
      "[[[ 1.2194262e-01 -5.2180082e-02  5.2327113e-03 ... -2.1131415e-02\n",
      "   -2.7775053e-02 -1.7569216e-02]]\n",
      "\n",
      " [[ 8.3896384e-02  1.5045750e-01  4.5462926e-03 ... -6.7515844e-03\n",
      "    1.8597849e-02 -2.3018550e-02]]\n",
      "\n",
      " [[ 1.0783694e-01  1.3868606e-01  2.0184470e-02 ... -8.1872819e-03\n",
      "    2.5923029e-02 -2.4738500e-02]]\n",
      "\n",
      " ...\n",
      "\n",
      " [[ 5.9446793e-02  2.2982250e-01 -1.7121695e-04 ...  1.0457955e-02\n",
      "   -7.0175850e-03 -1.4521907e-02]]\n",
      "\n",
      " [[ 1.1026376e-01 -3.6579993e-02  3.6871318e-02 ... -4.6614930e-03\n",
      "    3.0870575e-02 -3.2219391e-03]]\n",
      "\n",
      " [[ 1.8443571e-01 -4.1682284e-02  2.3081422e-02 ... -8.0404608e-03\n",
      "   -3.4469940e-02 -2.2840943e-02]]], shape=(12, 1, 1280), dtype=float32)\n",
      "Embedding shape:  tf.Tensor([  12    1 1280], shape=(3,), dtype=int64)\n"
     ]
    },
    {
     "name": "stderr",
     "output_type": "stream",
     "text": [
      "2023-05-16 12:48:53.166974: I tensorflow/core/common_runtime/executor.cc:1197] [/device:CPU:0] (DEBUG INFO) Executor start aborting (this does not indicate an error and you can ignore this message): INVALID_ARGUMENT: You must feed a value for placeholder tensor 'Placeholder/_0' with dtype string and shape [1]\n",
      "\t [[{{node Placeholder/_0}}]]\n"
     ]
    }
   ],
   "source": [
    "# Parse single dataset file as an example\n",
    "dataset_file = f\"point_one_percent_embeddings/a2o_sample_embeddings-00000-of-00007\"\n",
    "raw_dataset = tf.data.TFRecordDataset(dataset_file)\n",
    "dataset = raw_dataset.map(parse_tfrecord)\n",
    "\n",
    "for timestamp_s, filename, embedding, embedding_shape in dataset.take(1):\n",
    "    print(\"Timestamp: \", timestamp_s)\n",
    "    print(\"Filename: \", filename)\n",
    "    print(\"Embedding: \", embedding)\n",
    "    print(\"Embedding shape: \", embedding_shape)\n"
   ]
  },
  {
   "cell_type": "code",
   "execution_count": 5,
   "id": "63aa24a2",
   "metadata": {},
   "outputs": [
    {
     "name": "stderr",
     "output_type": "stream",
     "text": [
      "2023-05-16 12:48:53.221562: I tensorflow/core/common_runtime/executor.cc:1197] [/device:CPU:0] (DEBUG INFO) Executor start aborting (this does not indicate an error and you can ignore this message): INVALID_ARGUMENT: You must feed a value for placeholder tensor 'Placeholder/_0' with dtype string and shape [1]\n",
      "\t [[{{node Placeholder/_0}}]]\n"
     ]
    },
    {
     "name": "stdout",
     "output_type": "stream",
     "text": [
      "Processed data file: point_one_percent_embeddings/a2o_sample_embeddings-00000-of-00007, found 24903 records\n"
     ]
    },
    {
     "data": {
      "text/plain": [
       "[{'embedding': array([ 0.12194262, -0.05218008,  0.00523271, ..., -0.02113141,\n",
       "         -0.02777505, -0.01756922], dtype=float32),\n",
       "  'file_timestamp': 1583676000,\n",
       "  'offset': 5640,\n",
       "  'site_id': 62,\n",
       "  'site_name': 'Uunguu-Indigenous-Protected-Area-Wunambal-Gaambera',\n",
       "  'subsite_name': 'Wet-A',\n",
       "  'file_seq_id': 192000,\n",
       "  'filename': 'site_0062/20200308T220000+0800_Uunguu-Indigenous-Protected-Area-Wunambal-Gaambera-Wet-A_192000.flac'},\n",
       " {'embedding': array([ 0.08389638,  0.1504575 ,  0.00454629, ..., -0.00675158,\n",
       "          0.01859785, -0.02301855], dtype=float32),\n",
       "  'file_timestamp': 1583676000,\n",
       "  'offset': 5645,\n",
       "  'site_id': 62,\n",
       "  'site_name': 'Uunguu-Indigenous-Protected-Area-Wunambal-Gaambera',\n",
       "  'subsite_name': 'Wet-A',\n",
       "  'file_seq_id': 192000,\n",
       "  'filename': 'site_0062/20200308T220000+0800_Uunguu-Indigenous-Protected-Area-Wunambal-Gaambera-Wet-A_192000.flac'},\n",
       " {'embedding': array([ 0.10783694,  0.13868606,  0.02018447, ..., -0.00818728,\n",
       "          0.02592303, -0.0247385 ], dtype=float32),\n",
       "  'file_timestamp': 1583676000,\n",
       "  'offset': 5650,\n",
       "  'site_id': 62,\n",
       "  'site_name': 'Uunguu-Indigenous-Protected-Area-Wunambal-Gaambera',\n",
       "  'subsite_name': 'Wet-A',\n",
       "  'file_seq_id': 192000,\n",
       "  'filename': 'site_0062/20200308T220000+0800_Uunguu-Indigenous-Protected-Area-Wunambal-Gaambera-Wet-A_192000.flac'},\n",
       " {'embedding': array([ 0.05446566,  0.19671515,  0.00360038, ..., -0.0186345 ,\n",
       "          0.02634966, -0.0304634 ], dtype=float32),\n",
       "  'file_timestamp': 1583676000,\n",
       "  'offset': 5655,\n",
       "  'site_id': 62,\n",
       "  'site_name': 'Uunguu-Indigenous-Protected-Area-Wunambal-Gaambera',\n",
       "  'subsite_name': 'Wet-A',\n",
       "  'file_seq_id': 192000,\n",
       "  'filename': 'site_0062/20200308T220000+0800_Uunguu-Indigenous-Protected-Area-Wunambal-Gaambera-Wet-A_192000.flac'},\n",
       " {'embedding': array([ 0.10221145,  0.25671297,  0.02196264, ...,  0.01964047,\n",
       "         -0.02922068, -0.00895042], dtype=float32),\n",
       "  'file_timestamp': 1583676000,\n",
       "  'offset': 5660,\n",
       "  'site_id': 62,\n",
       "  'site_name': 'Uunguu-Indigenous-Protected-Area-Wunambal-Gaambera',\n",
       "  'subsite_name': 'Wet-A',\n",
       "  'file_seq_id': 192000,\n",
       "  'filename': 'site_0062/20200308T220000+0800_Uunguu-Indigenous-Protected-Area-Wunambal-Gaambera-Wet-A_192000.flac'}]"
      ]
     },
     "execution_count": 5,
     "metadata": {},
     "output_type": "execute_result"
    }
   ],
   "source": [
    "# convert extracted metadata to insertable data records\n",
    "def prep_data_from_file(dataset_filename): \n",
    "    data = []\n",
    "    raw_dataset = tf.data.TFRecordDataset(dataset_filename)\n",
    "    count = 0\n",
    "    for timestamp_s, filename, embedding, embedding_shape in raw_dataset.map(parse_tfrecord).as_numpy_iterator():\n",
    "        [(\n",
    "            site_id, \n",
    "            file_datetime, \n",
    "            timezone, \n",
    "            site_name, \n",
    "            subsite_name, \n",
    "            file_seq_id\n",
    "        )] = re.findall(\n",
    "            # I'm quite proud of myself for this regex, but if anyone can see \n",
    "            # a way to simplify it, please let me know!\n",
    "            r\"site_(?P<site_id>\\d{4})\\/(?P<datetime>\\d{8}T\\d{6})(?P<timezone>(?:\\+\\d{4})|Z)_(?P<site_name>(?:\\w*|-)*)-(?P<subsite_name>(?:Wet|Dry)-(?:A|B))_(?P<file_seq_id>\\d*).flac\",\n",
    "            filename.decode(\"utf-8\")\n",
    "        )\n",
    "        \n",
    "        # Some files have just \"Z\" as timezone\n",
    "        timezone = \"+0000\" if timezone == \"Z\" else timezone\n",
    "        file_datetime = datetime.datetime.strptime(f\"{file_datetime}{timezone}\", f\"%Y%m%dT%H%M%S%z\").timestamp()\n",
    "        \n",
    "        # `embedding` is a 3D array with Dims [12,1,1280]\n",
    "        # We loop over the first dimension to \"flatten\" \n",
    "        # the 12 emebddings per minute\n",
    "        # and extract the single channel (2nd dimension). \n",
    "        # We add each of the 12 embeddings as their own record\n",
    "        for i, _embedding in enumerate(embedding[:,0]):\n",
    "            _data = {\n",
    "                \"embedding\": _embedding, \n",
    "                \"file_timestamp\": int(file_datetime), \n",
    "                \"offset\": int(timestamp_s + (5*i)), \n",
    "                \"site_id\": int(site_id), \n",
    "                \"site_name\": site_name, \n",
    "                \"subsite_name\": subsite_name, \n",
    "                \"file_seq_id\": int(file_seq_id),\n",
    "                \"filename\": filename.decode(\"utf-8\")\n",
    "            }\n",
    "            data.append(_data)\n",
    "        count += 1\n",
    "    print(f\"Processed data file: {dataset_filename}, found {count} records\")\n",
    "    return data\n",
    "\n",
    "# example \n",
    "data = prep_data_from_file(\"point_one_percent_embeddings/a2o_sample_embeddings-00000-of-00007\")\n",
    "data[0:5]    "
   ]
  },
  {
   "cell_type": "code",
   "execution_count": 6,
   "id": "a954d04b",
   "metadata": {},
   "outputs": [
    {
     "name": "stderr",
     "output_type": "stream",
     "text": [
      "2023-05-16 12:49:01.637069: I tensorflow/core/common_runtime/executor.cc:1197] [/device:CPU:0] (DEBUG INFO) Executor start aborting (this does not indicate an error and you can ignore this message): INVALID_ARGUMENT: You must feed a value for placeholder tensor 'Placeholder/_0' with dtype string and shape [1]\n",
      "\t [[{{node Placeholder/_0}}]]\n"
     ]
    },
    {
     "name": "stdout",
     "output_type": "stream",
     "text": [
      "Processed data file: point_one_percent_embeddings/a2o_sample_embeddings-00000-of-00007, found 24903 records\n"
     ]
    },
    {
     "name": "stderr",
     "output_type": "stream",
     "text": [
      "2023-05-16 12:49:10.226445: I tensorflow/core/common_runtime/executor.cc:1197] [/device:CPU:0] (DEBUG INFO) Executor start aborting (this does not indicate an error and you can ignore this message): INVALID_ARGUMENT: You must feed a value for placeholder tensor 'Placeholder/_0' with dtype string and shape [1]\n",
      "\t [[{{node Placeholder/_0}}]]\n"
     ]
    },
    {
     "name": "stdout",
     "output_type": "stream",
     "text": [
      "Processed data file: point_one_percent_embeddings/a2o_sample_embeddings-00001-of-00007, found 3102 records\n"
     ]
    },
    {
     "name": "stderr",
     "output_type": "stream",
     "text": [
      "2023-05-16 12:49:11.193622: I tensorflow/core/common_runtime/executor.cc:1197] [/device:CPU:0] (DEBUG INFO) Executor start aborting (this does not indicate an error and you can ignore this message): INVALID_ARGUMENT: You must feed a value for placeholder tensor 'Placeholder/_0' with dtype string and shape [1]\n",
      "\t [[{{node Placeholder/_0}}]]\n"
     ]
    },
    {
     "name": "stdout",
     "output_type": "stream",
     "text": [
      "Processed data file: point_one_percent_embeddings/a2o_sample_embeddings-00002-of-00007, found 7740 records\n"
     ]
    },
    {
     "name": "stderr",
     "output_type": "stream",
     "text": [
      "2023-05-16 12:49:13.944556: I tensorflow/core/common_runtime/executor.cc:1197] [/device:CPU:0] (DEBUG INFO) Executor start aborting (this does not indicate an error and you can ignore this message): INVALID_ARGUMENT: You must feed a value for placeholder tensor 'Placeholder/_0' with dtype string and shape [1]\n",
      "\t [[{{node Placeholder/_0}}]]\n"
     ]
    },
    {
     "name": "stdout",
     "output_type": "stream",
     "text": [
      "Processed data file: point_one_percent_embeddings/a2o_sample_embeddings-00003-of-00007, found 5981 records\n",
      "Processed data file: point_one_percent_embeddings/a2o_sample_embeddings-00004-of-00007, found 424 records\n"
     ]
    },
    {
     "name": "stderr",
     "output_type": "stream",
     "text": [
      "2023-05-16 12:49:15.850773: I tensorflow/core/common_runtime/executor.cc:1197] [/device:CPU:0] (DEBUG INFO) Executor start aborting (this does not indicate an error and you can ignore this message): INVALID_ARGUMENT: You must feed a value for placeholder tensor 'Placeholder/_0' with dtype string and shape [1]\n",
      "\t [[{{node Placeholder/_0}}]]\n",
      "2023-05-16 12:49:16.052358: I tensorflow/core/common_runtime/executor.cc:1197] [/device:CPU:0] (DEBUG INFO) Executor start aborting (this does not indicate an error and you can ignore this message): INVALID_ARGUMENT: You must feed a value for placeholder tensor 'Placeholder/_0' with dtype string and shape [1]\n",
      "\t [[{{node Placeholder/_0}}]]\n"
     ]
    },
    {
     "name": "stdout",
     "output_type": "stream",
     "text": [
      "Processed data file: point_one_percent_embeddings/a2o_sample_embeddings-00005-of-00007, found 21629 records\n"
     ]
    },
    {
     "name": "stderr",
     "output_type": "stream",
     "text": [
      "2023-05-16 12:49:24.160185: I tensorflow/core/common_runtime/executor.cc:1197] [/device:CPU:0] (DEBUG INFO) Executor start aborting (this does not indicate an error and you can ignore this message): INVALID_ARGUMENT: You must feed a value for placeholder tensor 'Placeholder/_0' with dtype string and shape [1]\n",
      "\t [[{{node Placeholder/_0}}]]\n"
     ]
    },
    {
     "name": "stdout",
     "output_type": "stream",
     "text": [
      "Processed data file: point_one_percent_embeddings/a2o_sample_embeddings-00006-of-00007, found 9041 records\n",
      "872994 records to insert into the milvus collection\n",
      "CPU times: user 34.3 s, sys: 7.5 s, total: 41.8 s\n",
      "Wall time: 27.7 s\n"
     ]
    }
   ],
   "source": [
    "%%time\n",
    "# generate insertable records from all files in the 0.1 percent sample\n",
    "data = [\n",
    "    prep_data_from_file(f\"point_one_percent_embeddings/a2o_sample_embeddings-0000{i}-of-00007\") \n",
    "    for i in range(0,7)\n",
    "]\n",
    "\n",
    "# flatten 2 list for of records \n",
    "data = [record for _data in data for record in _data]\n",
    "\n",
    "print(f\"{len(data)} records to insert into the milvus collection\")"
   ]
  },
  {
   "cell_type": "code",
   "execution_count": 7,
   "id": "9093a0f4",
   "metadata": {
    "scrolled": true
   },
   "outputs": [
    {
     "data": {
      "text/html": [
       "<div>\n",
       "<style scoped>\n",
       "    .dataframe tbody tr th:only-of-type {\n",
       "        vertical-align: middle;\n",
       "    }\n",
       "\n",
       "    .dataframe tbody tr th {\n",
       "        vertical-align: top;\n",
       "    }\n",
       "\n",
       "    .dataframe thead th {\n",
       "        text-align: right;\n",
       "    }\n",
       "</style>\n",
       "<table border=\"1\" class=\"dataframe\">\n",
       "  <thead>\n",
       "    <tr style=\"text-align: right;\">\n",
       "      <th></th>\n",
       "      <th>embedding</th>\n",
       "      <th>file_timestamp</th>\n",
       "      <th>offset</th>\n",
       "      <th>site_id</th>\n",
       "      <th>site_name</th>\n",
       "      <th>subsite_name</th>\n",
       "      <th>file_seq_id</th>\n",
       "      <th>filename</th>\n",
       "    </tr>\n",
       "  </thead>\n",
       "  <tbody>\n",
       "    <tr>\n",
       "      <th>0</th>\n",
       "      <td>[0.12194262, -0.05218008, 0.0052327113, 0.0393...</td>\n",
       "      <td>1583676000</td>\n",
       "      <td>5640</td>\n",
       "      <td>62</td>\n",
       "      <td>Uunguu-Indigenous-Protected-Area-Wunambal-Gaam...</td>\n",
       "      <td>Wet-A</td>\n",
       "      <td>192000</td>\n",
       "      <td>site_0062/20200308T220000+0800_Uunguu-Indigeno...</td>\n",
       "    </tr>\n",
       "    <tr>\n",
       "      <th>1</th>\n",
       "      <td>[0.08389638, 0.1504575, 0.0045462926, 0.055106...</td>\n",
       "      <td>1583676000</td>\n",
       "      <td>5645</td>\n",
       "      <td>62</td>\n",
       "      <td>Uunguu-Indigenous-Protected-Area-Wunambal-Gaam...</td>\n",
       "      <td>Wet-A</td>\n",
       "      <td>192000</td>\n",
       "      <td>site_0062/20200308T220000+0800_Uunguu-Indigeno...</td>\n",
       "    </tr>\n",
       "    <tr>\n",
       "      <th>2</th>\n",
       "      <td>[0.10783694, 0.13868606, 0.02018447, 0.0507583...</td>\n",
       "      <td>1583676000</td>\n",
       "      <td>5650</td>\n",
       "      <td>62</td>\n",
       "      <td>Uunguu-Indigenous-Protected-Area-Wunambal-Gaam...</td>\n",
       "      <td>Wet-A</td>\n",
       "      <td>192000</td>\n",
       "      <td>site_0062/20200308T220000+0800_Uunguu-Indigeno...</td>\n",
       "    </tr>\n",
       "    <tr>\n",
       "      <th>3</th>\n",
       "      <td>[0.054465663, 0.19671515, 0.003600375, 0.02757...</td>\n",
       "      <td>1583676000</td>\n",
       "      <td>5655</td>\n",
       "      <td>62</td>\n",
       "      <td>Uunguu-Indigenous-Protected-Area-Wunambal-Gaam...</td>\n",
       "      <td>Wet-A</td>\n",
       "      <td>192000</td>\n",
       "      <td>site_0062/20200308T220000+0800_Uunguu-Indigeno...</td>\n",
       "    </tr>\n",
       "    <tr>\n",
       "      <th>4</th>\n",
       "      <td>[0.10221145, 0.25671297, 0.021962637, 0.027206...</td>\n",
       "      <td>1583676000</td>\n",
       "      <td>5660</td>\n",
       "      <td>62</td>\n",
       "      <td>Uunguu-Indigenous-Protected-Area-Wunambal-Gaam...</td>\n",
       "      <td>Wet-A</td>\n",
       "      <td>192000</td>\n",
       "      <td>site_0062/20200308T220000+0800_Uunguu-Indigeno...</td>\n",
       "    </tr>\n",
       "    <tr>\n",
       "      <th>...</th>\n",
       "      <td>...</td>\n",
       "      <td>...</td>\n",
       "      <td>...</td>\n",
       "      <td>...</td>\n",
       "      <td>...</td>\n",
       "      <td>...</td>\n",
       "      <td>...</td>\n",
       "      <td>...</td>\n",
       "    </tr>\n",
       "    <tr>\n",
       "      <th>872989</th>\n",
       "      <td>[-0.0849548, -0.15006493, 0.02749683, -0.00334...</td>\n",
       "      <td>1612980000</td>\n",
       "      <td>4295</td>\n",
       "      <td>168</td>\n",
       "      <td>Chillagoe</td>\n",
       "      <td>Dry-B</td>\n",
       "      <td>375000</td>\n",
       "      <td>site_0168/20210211T040000+1000_Chillagoe-Dry-B...</td>\n",
       "    </tr>\n",
       "    <tr>\n",
       "      <th>872990</th>\n",
       "      <td>[-0.09999732, -0.19166626, 0.06264316, -0.0024...</td>\n",
       "      <td>1612980000</td>\n",
       "      <td>4300</td>\n",
       "      <td>168</td>\n",
       "      <td>Chillagoe</td>\n",
       "      <td>Dry-B</td>\n",
       "      <td>375000</td>\n",
       "      <td>site_0168/20210211T040000+1000_Chillagoe-Dry-B...</td>\n",
       "    </tr>\n",
       "    <tr>\n",
       "      <th>872991</th>\n",
       "      <td>[-0.058289703, -0.14517488, 0.064751804, 0.002...</td>\n",
       "      <td>1612980000</td>\n",
       "      <td>4305</td>\n",
       "      <td>168</td>\n",
       "      <td>Chillagoe</td>\n",
       "      <td>Dry-B</td>\n",
       "      <td>375000</td>\n",
       "      <td>site_0168/20210211T040000+1000_Chillagoe-Dry-B...</td>\n",
       "    </tr>\n",
       "    <tr>\n",
       "      <th>872992</th>\n",
       "      <td>[-0.09268322, -0.15292507, 0.041342225, 0.0062...</td>\n",
       "      <td>1612980000</td>\n",
       "      <td>4310</td>\n",
       "      <td>168</td>\n",
       "      <td>Chillagoe</td>\n",
       "      <td>Dry-B</td>\n",
       "      <td>375000</td>\n",
       "      <td>site_0168/20210211T040000+1000_Chillagoe-Dry-B...</td>\n",
       "    </tr>\n",
       "    <tr>\n",
       "      <th>872993</th>\n",
       "      <td>[-0.10221887, -0.17449194, 0.043515828, -0.024...</td>\n",
       "      <td>1612980000</td>\n",
       "      <td>4315</td>\n",
       "      <td>168</td>\n",
       "      <td>Chillagoe</td>\n",
       "      <td>Dry-B</td>\n",
       "      <td>375000</td>\n",
       "      <td>site_0168/20210211T040000+1000_Chillagoe-Dry-B...</td>\n",
       "    </tr>\n",
       "  </tbody>\n",
       "</table>\n",
       "<p>872994 rows × 8 columns</p>\n",
       "</div>"
      ],
      "text/plain": [
       "                                                embedding  file_timestamp   \n",
       "0       [0.12194262, -0.05218008, 0.0052327113, 0.0393...      1583676000  \\\n",
       "1       [0.08389638, 0.1504575, 0.0045462926, 0.055106...      1583676000   \n",
       "2       [0.10783694, 0.13868606, 0.02018447, 0.0507583...      1583676000   \n",
       "3       [0.054465663, 0.19671515, 0.003600375, 0.02757...      1583676000   \n",
       "4       [0.10221145, 0.25671297, 0.021962637, 0.027206...      1583676000   \n",
       "...                                                   ...             ...   \n",
       "872989  [-0.0849548, -0.15006493, 0.02749683, -0.00334...      1612980000   \n",
       "872990  [-0.09999732, -0.19166626, 0.06264316, -0.0024...      1612980000   \n",
       "872991  [-0.058289703, -0.14517488, 0.064751804, 0.002...      1612980000   \n",
       "872992  [-0.09268322, -0.15292507, 0.041342225, 0.0062...      1612980000   \n",
       "872993  [-0.10221887, -0.17449194, 0.043515828, -0.024...      1612980000   \n",
       "\n",
       "        offset  site_id                                          site_name   \n",
       "0         5640       62  Uunguu-Indigenous-Protected-Area-Wunambal-Gaam...  \\\n",
       "1         5645       62  Uunguu-Indigenous-Protected-Area-Wunambal-Gaam...   \n",
       "2         5650       62  Uunguu-Indigenous-Protected-Area-Wunambal-Gaam...   \n",
       "3         5655       62  Uunguu-Indigenous-Protected-Area-Wunambal-Gaam...   \n",
       "4         5660       62  Uunguu-Indigenous-Protected-Area-Wunambal-Gaam...   \n",
       "...        ...      ...                                                ...   \n",
       "872989    4295      168                                          Chillagoe   \n",
       "872990    4300      168                                          Chillagoe   \n",
       "872991    4305      168                                          Chillagoe   \n",
       "872992    4310      168                                          Chillagoe   \n",
       "872993    4315      168                                          Chillagoe   \n",
       "\n",
       "       subsite_name  file_seq_id   \n",
       "0             Wet-A       192000  \\\n",
       "1             Wet-A       192000   \n",
       "2             Wet-A       192000   \n",
       "3             Wet-A       192000   \n",
       "4             Wet-A       192000   \n",
       "...             ...          ...   \n",
       "872989        Dry-B       375000   \n",
       "872990        Dry-B       375000   \n",
       "872991        Dry-B       375000   \n",
       "872992        Dry-B       375000   \n",
       "872993        Dry-B       375000   \n",
       "\n",
       "                                                 filename  \n",
       "0       site_0062/20200308T220000+0800_Uunguu-Indigeno...  \n",
       "1       site_0062/20200308T220000+0800_Uunguu-Indigeno...  \n",
       "2       site_0062/20200308T220000+0800_Uunguu-Indigeno...  \n",
       "3       site_0062/20200308T220000+0800_Uunguu-Indigeno...  \n",
       "4       site_0062/20200308T220000+0800_Uunguu-Indigeno...  \n",
       "...                                                   ...  \n",
       "872989  site_0168/20210211T040000+1000_Chillagoe-Dry-B...  \n",
       "872990  site_0168/20210211T040000+1000_Chillagoe-Dry-B...  \n",
       "872991  site_0168/20210211T040000+1000_Chillagoe-Dry-B...  \n",
       "872992  site_0168/20210211T040000+1000_Chillagoe-Dry-B...  \n",
       "872993  site_0168/20210211T040000+1000_Chillagoe-Dry-B...  \n",
       "\n",
       "[872994 rows x 8 columns]"
      ]
     },
     "execution_count": 7,
     "metadata": {},
     "output_type": "execute_result"
    }
   ],
   "source": [
    "df = pd.DataFrame(data)\n",
    "df"
   ]
  },
  {
   "cell_type": "code",
   "execution_count": 8,
   "id": "2b266b49",
   "metadata": {
    "scrolled": true
   },
   "outputs": [
    {
     "name": "stdout",
     "output_type": "stream",
     "text": [
      "Total number of embeddings: 872994, from 942 different files\n",
      "Max number of embeddings per file: 1440\n",
      "Min number of embeddings per file: 12\n",
      "Mean number of embeddings per file: 926.7452229299363\n"
     ]
    }
   ],
   "source": [
    "print(f\"Total number of embeddings: {len(df)}, from {len(df['filename'].unique())} different files\")\n",
    "# Number of embeddings per file on average\n",
    "print(f'Max number of embeddings per file: {df.groupby(\"filename\")[[\"offset\"]].nunique().max().offset}')\n",
    "print(f'Min number of embeddings per file: {df.groupby(\"filename\")[[\"offset\"]].nunique().min().offset}')\n",
    "print(f'Mean number of embeddings per file: {df.groupby(\"filename\")[[\"offset\"]].nunique().mean().offset}')"
   ]
  }
 ],
 "metadata": {
  "kernelspec": {
   "display_name": "bioacoustics",
   "language": "python",
   "name": "bioacoustics"
  },
  "language_info": {
   "codemirror_mode": {
    "name": "ipython",
    "version": 3
   },
   "file_extension": ".py",
   "mimetype": "text/x-python",
   "name": "python",
   "nbconvert_exporter": "python",
   "pygments_lexer": "ipython3",
   "version": "3.8.3"
  }
 },
 "nbformat": 4,
 "nbformat_minor": 5
}
